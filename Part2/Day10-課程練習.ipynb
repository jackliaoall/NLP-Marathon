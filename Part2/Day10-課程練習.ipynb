{
 "cells": [
  {
   "cell_type": "code",
   "execution_count": 2,
   "metadata": {},
   "outputs": [],
   "source": [
    "import torch\n",
    "import torch.nn as nn\n",
    "import torchvision.models as models\n",
    "import torch.nn.functional as F\n",
    "import numpy as np\n",
    "from sklearn.datasets import load_iris\n",
    "from sklearn.model_selection import train_test_split\n",
    "from sklearn import metrics\n",
    "from sklearn.metrics import classification_report"
   ]
  },
  {
   "cell_type": "code",
   "execution_count": 23,
   "metadata": {},
   "outputs": [
    {
     "name": "stdout",
     "output_type": "stream",
     "text": [
      "訓練資料 : (150, 4)\n",
      "標籤 : [0 1 2]\n"
     ]
    }
   ],
   "source": [
    "iris = load_iris()\n",
    "x = iris['data']\n",
    "y = iris['target'] \n",
    "print('訓練資料 : {}'.format(x.shape))\n",
    "print('標籤 : {}'.format(np.unique(y)))\n",
    "\n",
    "## 拆成訓練與測試集\n",
    "x_train, x_test, y_train, y_test = train_test_split(x, y, random_state=10)"
   ]
  },
  {
   "cell_type": "markdown",
   "metadata": {},
   "source": [
    "### 判斷是否有GPU可以使用"
   ]
  },
  {
   "cell_type": "code",
   "execution_count": 4,
   "metadata": {},
   "outputs": [],
   "source": [
    "device = 'cuda' if torch.cuda.is_available() else 'cpu'"
   ]
  },
  {
   "cell_type": "markdown",
   "metadata": {},
   "source": [
    "### 模型搭建"
   ]
  },
  {
   "cell_type": "code",
   "execution_count": 5,
   "metadata": {},
   "outputs": [],
   "source": [
    "class LinearBNAC(nn.Module):\n",
    "    def __init__(self, in_channels, out_channels, bias=True, dropout=0.3, is_output=False):\n",
    "        super(LinearBNAC, self).__init__()\n",
    "        if is_output:\n",
    "            self.linear = nn.Linear(in_channels, out_channels, bias=bias)\n",
    "        else:\n",
    "            self.linear = nn.Sequential(\n",
    "                nn.Linear(in_channels, out_channels, bias=bias),\n",
    "                nn.BatchNorm1d(out_channels),\n",
    "                nn.LeakyReLU(inplace=True),\n",
    "                nn.Dropout(dropout),\n",
    "            )\n",
    "            \n",
    "    def forward(self, x):\n",
    "        out=self.linear(x)\n",
    "        return out"
   ]
  },
  {
   "cell_type": "code",
   "execution_count": 6,
   "metadata": {},
   "outputs": [],
   "source": [
    "class Model(nn.Module):\n",
    "    def __init__(self, input_dimention, output_classes=1):\n",
    "        super(Model, self).__init__()\n",
    "        self.layer1 = LinearBNAC(input_dimention, 16)\n",
    "        self.layer2 = LinearBNAC(16, 32)\n",
    "        self.output = LinearBNAC(32, output_classes, is_output=True)\n",
    "    def forward(self, x):\n",
    "        x = self.layer1(x)\n",
    "        x = self.layer2(x)\n",
    "        x = self.output(x)\n",
    "        return x  \n",
    "        "
   ]
  },
  {
   "cell_type": "markdown",
   "metadata": {},
   "source": [
    "### 建立模型"
   ]
  },
  {
   "cell_type": "markdown",
   "metadata": {},
   "source": [
    "* to(device) 代表轉成 cpu or gpu 模式 (gpu 模式下稱為 cuda)"
   ]
  },
  {
   "cell_type": "code",
   "execution_count": 12,
   "metadata": {},
   "outputs": [],
   "source": [
    "model = Model(input_dimention=4,output_classes=3).to(device)"
   ]
  },
  {
   "cell_type": "code",
   "execution_count": 13,
   "metadata": {},
   "outputs": [
    {
     "name": "stdout",
     "output_type": "stream",
     "text": [
      "layer1.linear.0.weight torch.Size([16, 4])\n",
      "layer1.linear.0.bias torch.Size([16])\n",
      "layer1.linear.1.weight torch.Size([16])\n",
      "layer1.linear.1.bias torch.Size([16])\n",
      "layer2.linear.0.weight torch.Size([32, 16])\n",
      "layer2.linear.0.bias torch.Size([32])\n",
      "layer2.linear.1.weight torch.Size([32])\n",
      "layer2.linear.1.bias torch.Size([32])\n",
      "output.linear.weight torch.Size([3, 32])\n",
      "output.linear.bias torch.Size([3])\n"
     ]
    }
   ],
   "source": [
    "for name,_ in model.named_parameters():\n",
    "    print(name, _.shape)"
   ]
  },
  {
   "cell_type": "code",
   "execution_count": 14,
   "metadata": {},
   "outputs": [],
   "source": [
    "batch_size = 4\n",
    "input_features = 4\n",
    "dummy_input = torch.randn(batch_size, input_features).to(device)\n"
   ]
  },
  {
   "cell_type": "code",
   "execution_count": 15,
   "metadata": {},
   "outputs": [
    {
     "name": "stdout",
     "output_type": "stream",
     "text": [
      "tensor([[ 0.2689,  1.0266, -0.0182],\n",
      "        [ 0.4221,  0.3312, -1.0611],\n",
      "        [ 0.5758,  0.7022, -0.2091],\n",
      "        [-0.5158,  0.2430, -1.0094]], grad_fn=<AddmmBackward>)\n"
     ]
    }
   ],
   "source": [
    "output = model(dummy_input)\n",
    "print(output)"
   ]
  },
  {
   "cell_type": "markdown",
   "metadata": {},
   "source": [
    "## Loss"
   ]
  },
  {
   "cell_type": "markdown",
   "metadata": {},
   "source": [
    "#### classification"
   ]
  },
  {
   "cell_type": "code",
   "execution_count": 16,
   "metadata": {},
   "outputs": [],
   "source": [
    "from torch.nn import NLLLoss, LogSoftmax, CrossEntropyLoss"
   ]
  },
  {
   "cell_type": "code",
   "execution_count": 17,
   "metadata": {},
   "outputs": [],
   "source": [
    "## CrossEntropyLoss = LogSoftmax + NLLLoss"
   ]
  },
  {
   "cell_type": "markdown",
   "metadata": {},
   "source": [
    "* CrossEntropyLoss"
   ]
  },
  {
   "cell_type": "code",
   "execution_count": 18,
   "metadata": {},
   "outputs": [],
   "source": [
    "criterion = CrossEntropyLoss()"
   ]
  },
  {
   "cell_type": "markdown",
   "metadata": {},
   "source": [
    "## optimizer"
   ]
  },
  {
   "cell_type": "code",
   "execution_count": 19,
   "metadata": {},
   "outputs": [],
   "source": [
    "import torch.optim as optim"
   ]
  },
  {
   "cell_type": "markdown",
   "metadata": {},
   "source": [
    "* params : iterable of parameters\n",
    "* lr : learning rate\n",
    "* weight_decay : (L2) Regularization (正則化) "
   ]
  },
  {
   "cell_type": "code",
   "execution_count": 20,
   "metadata": {},
   "outputs": [],
   "source": [
    "optimizer = optim.Adam(params=model.parameters(), lr=1e-3)"
   ]
  },
  {
   "cell_type": "markdown",
   "metadata": {},
   "source": [
    "### 訓練前準備"
   ]
  },
  {
   "cell_type": "code",
   "execution_count": 24,
   "metadata": {},
   "outputs": [],
   "source": [
    "x_train = torch.tensor(x_train, dtype=torch.float32).to(device)\n",
    "x_test = torch.tensor(x_test, dtype=torch.float32).to(device)\n",
    "\n",
    "y_train_numpy = y_train.copy()\n",
    "y_test_numpy = y_test.copy()\n",
    "\n",
    "y_train = torch.tensor(y_train, dtype=torch.long).to(device)\n",
    "y_test = torch.tensor(y_test, dtype=torch.long).to(device)"
   ]
  },
  {
   "cell_type": "code",
   "execution_count": 25,
   "metadata": {},
   "outputs": [],
   "source": [
    "batch_size = 4\n",
    "epochs = 400\n",
    "whole_batch = np.linspace(0, len(x_train), len(x_train)//batch_size+1).astype(np.uint8)[:-1]\n",
    "softmax = nn.Softmax(-1)\n",
    "\n",
    "index = np.array([x for x in range(len(x_train))])"
   ]
  },
  {
   "cell_type": "code",
   "execution_count": 26,
   "metadata": {},
   "outputs": [
    {
     "data": {
      "text/plain": [
       "array([  0,   4,   8,  12,  16,  20,  24,  28,  32,  36,  40,  44,  48,\n",
       "        52,  56,  60,  64,  68,  72,  76,  80,  84,  88,  92,  96, 100,\n",
       "       104, 108], dtype=uint8)"
      ]
     },
     "execution_count": 26,
     "metadata": {},
     "output_type": "execute_result"
    }
   ],
   "source": [
    "whole_batch"
   ]
  },
  {
   "cell_type": "markdown",
   "metadata": {},
   "source": [
    "### 訓練"
   ]
  },
  {
   "cell_type": "code",
   "execution_count": 17,
   "metadata": {},
   "outputs": [
    {
     "name": "stdout",
     "output_type": "stream",
     "text": [
      "epoch : 0\n",
      "目前 train loss : 1.10\n",
      "目前 test loss : 1.00\n",
      "目前 test accuracy : 0.58\n",
      "epoch : 50\n",
      "目前 train loss : 0.56\n",
      "目前 test loss : 0.35\n",
      "目前 test accuracy : 0.97\n",
      "epoch : 100\n",
      "目前 train loss : 0.49\n",
      "目前 test loss : 0.33\n",
      "目前 test accuracy : 0.95\n",
      "epoch : 150\n",
      "目前 train loss : 0.55\n",
      "目前 test loss : 0.33\n",
      "目前 test accuracy : 0.97\n",
      "epoch : 200\n",
      "目前 train loss : 0.50\n",
      "目前 test loss : 0.26\n",
      "目前 test accuracy : 0.97\n",
      "epoch : 250\n",
      "目前 train loss : 0.58\n",
      "目前 test loss : 0.28\n",
      "目前 test accuracy : 0.97\n",
      "epoch : 300\n",
      "目前 train loss : 0.47\n",
      "目前 test loss : 0.26\n",
      "目前 test accuracy : 0.95\n",
      "epoch : 350\n",
      "目前 train loss : 0.40\n",
      "目前 test loss : 0.26\n",
      "目前 test accuracy : 0.97\n"
     ]
    }
   ],
   "source": [
    "train_loss_ = []\n",
    "test_loss_ = []\n",
    "train_accuracy_ = []\n",
    "test_accuracy_ = []\n",
    "for epoch in range(epochs):\n",
    "    \n",
    "    np.random.shuffle(index)\n",
    "    x_train = x_train[index]\n",
    "    y_train = y_train[index]\n",
    "\n",
    "    loss_keeper = []\n",
    "    model.train()\n",
    "    \n",
    "    for batch in whole_batch:\n",
    "        x = x_train[batch : batch+batch_size,:]\n",
    "        y = y_train[batch : batch+batch_size]\n",
    "        output = model(x)\n",
    "        loss_train = criterion(output, y)\n",
    "        loss_train.backward()\n",
    "        optimizer.step()\n",
    "        optimizer.zero_grad()\n",
    "        \n",
    "        loss_train = loss_train.detach().cpu().item()\n",
    "        loss_keeper.append(loss_train)    \n",
    "    \n",
    "    model.eval()\n",
    "    output = model(x_test)\n",
    "    prediction = softmax(output)\n",
    "    prediction = torch.argmax(prediction,1).detach().cpu().numpy()\n",
    "    test_accuracy = metrics.accuracy_score(prediction, y_test_numpy)\n",
    "    loss_test = criterion(output, y_test)\n",
    "    loss_test = loss_test.detach().cpu().item()\n",
    "    train_loss_.append(np.mean(loss_keeper))\n",
    "    test_loss_.append(loss_test)\n",
    "    \n",
    "    if epoch % 50 == 0:\n",
    "        print('epoch : {}'.format(epoch))\n",
    "        print('目前 train loss : {:.2f}'.format(np.mean(loss_keeper)))\n",
    "        print('目前 test loss : {:.2f}'.format(loss_test))\n",
    "        print('目前 test accuracy : {:.2f}'.format(test_accuracy))\n"
   ]
  },
  {
   "cell_type": "code",
   "execution_count": 18,
   "metadata": {},
   "outputs": [
    {
     "name": "stdout",
     "output_type": "stream",
     "text": [
      "              precision    recall  f1-score   support\n",
      "\n",
      "           0       1.00      1.00      1.00        11\n",
      "           1       1.00      1.00      1.00        15\n",
      "           2       1.00      1.00      1.00        12\n",
      "\n",
      "    accuracy                           1.00        38\n",
      "   macro avg       1.00      1.00      1.00        38\n",
      "weighted avg       1.00      1.00      1.00        38\n",
      "\n"
     ]
    }
   ],
   "source": [
    "print(classification_report(prediction, y_test_numpy))"
   ]
  },
  {
   "cell_type": "code",
   "execution_count": 23,
   "metadata": {},
   "outputs": [
    {
     "data": {
      "text/plain": [
       "[1.0046908855438232,\n",
       " 0.8303958773612976,\n",
       " 0.7702078819274902,\n",
       " 0.7341659069061279,\n",
       " 0.6715507507324219,\n",
       " 0.6591964364051819,\n",
       " 0.6304298639297485,\n",
       " 0.5978138446807861,\n",
       " 0.6030004620552063,\n",
       " 0.5634738802909851,\n",
       " 0.487557053565979,\n",
       " 0.5316038131713867,\n",
       " 0.5068303346633911,\n",
       " 0.49855202436447144,\n",
       " 0.46888467669487,\n",
       " 0.4912347197532654,\n",
       " 0.5023918151855469,\n",
       " 0.465431272983551,\n",
       " 0.4757929742336273,\n",
       " 0.43491730093955994,\n",
       " 0.41133052110671997,\n",
       " 0.40299978852272034,\n",
       " 0.43025559186935425,\n",
       " 0.39655789732933044,\n",
       " 0.3896576762199402,\n",
       " 0.4044020473957062,\n",
       " 0.3756085932254791,\n",
       " 0.4131154716014862,\n",
       " 0.34258517622947693,\n",
       " 0.3775673806667328,\n",
       " 0.3647645115852356,\n",
       " 0.36804911494255066,\n",
       " 0.35811781883239746,\n",
       " 0.3692902624607086,\n",
       " 0.3730541169643402,\n",
       " 0.3565485179424286,\n",
       " 0.3624030649662018,\n",
       " 0.3888057768344879,\n",
       " 0.3832980990409851,\n",
       " 0.37305283546447754,\n",
       " 0.37546277046203613,\n",
       " 0.3692947328090668,\n",
       " 0.3765681982040405,\n",
       " 0.35464516282081604,\n",
       " 0.3577636182308197,\n",
       " 0.3324684500694275,\n",
       " 0.33422863483428955,\n",
       " 0.3618799149990082,\n",
       " 0.35724812746047974,\n",
       " 0.3542141318321228,\n",
       " 0.34506818652153015,\n",
       " 0.3834213316440582,\n",
       " 0.35714244842529297,\n",
       " 0.3338625133037567,\n",
       " 0.37136492133140564,\n",
       " 0.3725668787956238,\n",
       " 0.3587116301059723,\n",
       " 0.3573797345161438,\n",
       " 0.3737717866897583,\n",
       " 0.38268008828163147,\n",
       " 0.37464722990989685,\n",
       " 0.3880724012851715,\n",
       " 0.4090375006198883,\n",
       " 0.35619068145751953,\n",
       " 0.3388131856918335,\n",
       " 0.37356045842170715,\n",
       " 0.3358966112136841,\n",
       " 0.32115212082862854,\n",
       " 0.3992028534412384,\n",
       " 0.35465073585510254,\n",
       " 0.32197627425193787,\n",
       " 0.3310619294643402,\n",
       " 0.31918737292289734,\n",
       " 0.3623954951763153,\n",
       " 0.3438209891319275,\n",
       " 0.3447367250919342,\n",
       " 0.329973042011261,\n",
       " 0.35445860028266907,\n",
       " 0.3840261995792389,\n",
       " 0.37421298027038574,\n",
       " 0.3681759536266327,\n",
       " 0.34301644563674927,\n",
       " 0.3320537209510803,\n",
       " 0.3356265127658844,\n",
       " 0.3207290768623352,\n",
       " 0.34663620591163635,\n",
       " 0.33444878458976746,\n",
       " 0.33617740869522095,\n",
       " 0.3445788621902466,\n",
       " 0.3322943150997162,\n",
       " 0.3469195067882538,\n",
       " 0.3234214186668396,\n",
       " 0.3381817638874054,\n",
       " 0.31214195489883423,\n",
       " 0.31713956594467163,\n",
       " 0.3104712963104248,\n",
       " 0.3313562870025635,\n",
       " 0.2932637333869934,\n",
       " 0.3067518174648285,\n",
       " 0.31872430443763733,\n",
       " 0.3326879143714905,\n",
       " 0.32313236594200134,\n",
       " 0.32411548495292664,\n",
       " 0.31118637323379517,\n",
       " 0.342047780752182,\n",
       " 0.3070512115955353,\n",
       " 0.33122459053993225,\n",
       " 0.38444048166275024,\n",
       " 0.3217068314552307,\n",
       " 0.3163609802722931,\n",
       " 0.2966557443141937,\n",
       " 0.3022876977920532,\n",
       " 0.32029736042022705,\n",
       " 0.31282150745391846,\n",
       " 0.30348989367485046,\n",
       " 0.29942989349365234,\n",
       " 0.2920587360858917,\n",
       " 0.31297534704208374,\n",
       " 0.3276384770870209,\n",
       " 0.2931511402130127,\n",
       " 0.3406250476837158,\n",
       " 0.3560936450958252,\n",
       " 0.33363446593284607,\n",
       " 0.32912781834602356,\n",
       " 0.30820202827453613,\n",
       " 0.3201954662799835,\n",
       " 0.31630635261535645,\n",
       " 0.2854023575782776,\n",
       " 0.28053566813468933,\n",
       " 0.3221782445907593,\n",
       " 0.29444923996925354,\n",
       " 0.30566635727882385,\n",
       " 0.32309627532958984,\n",
       " 0.3080263137817383,\n",
       " 0.3350280821323395,\n",
       " 0.3013056814670563,\n",
       " 0.34222471714019775,\n",
       " 0.31398987770080566,\n",
       " 0.29858678579330444,\n",
       " 0.3403746485710144,\n",
       " 0.32209405303001404,\n",
       " 0.3077514171600342,\n",
       " 0.32820290327072144,\n",
       " 0.3370390832424164,\n",
       " 0.35075703263282776,\n",
       " 0.33777421712875366,\n",
       " 0.3001958131790161,\n",
       " 0.3350863456726074,\n",
       " 0.3058975636959076,\n",
       " 0.31850263476371765,\n",
       " 0.3263522684574127,\n",
       " 0.31567153334617615,\n",
       " 0.3191925883293152,\n",
       " 0.325494647026062,\n",
       " 0.30188077688217163,\n",
       " 0.2895316183567047,\n",
       " 0.2987321615219116,\n",
       " 0.2959016263484955,\n",
       " 0.272407591342926,\n",
       " 0.3212401866912842,\n",
       " 0.2922925651073456,\n",
       " 0.2758934497833252,\n",
       " 0.28082606196403503,\n",
       " 0.2982453405857086,\n",
       " 0.2827968895435333,\n",
       " 0.29407986998558044,\n",
       " 0.3220658600330353,\n",
       " 0.3161604404449463,\n",
       " 0.28389668464660645,\n",
       " 0.2725210189819336,\n",
       " 0.28532689809799194,\n",
       " 0.27734535932540894,\n",
       " 0.30491966009140015,\n",
       " 0.2819271385669708,\n",
       " 0.3183706998825073,\n",
       " 0.2964680790901184,\n",
       " 0.27974849939346313,\n",
       " 0.2650900185108185,\n",
       " 0.25182560086250305,\n",
       " 0.2723720669746399,\n",
       " 0.25704824924468994,\n",
       " 0.28072696924209595,\n",
       " 0.25602447986602783,\n",
       " 0.27508795261383057,\n",
       " 0.27822932600975037,\n",
       " 0.2813134491443634,\n",
       " 0.30696526169776917,\n",
       " 0.28111299872398376,\n",
       " 0.2835174798965454,\n",
       " 0.2717355787754059,\n",
       " 0.2718733847141266,\n",
       " 0.26740244030952454,\n",
       " 0.27603012323379517,\n",
       " 0.26247647404670715,\n",
       " 0.2808268666267395,\n",
       " 0.3069998621940613,\n",
       " 0.27162715792655945,\n",
       " 0.2900718152523041,\n",
       " 0.2887047529220581,\n",
       " 0.2787657678127289,\n",
       " 0.25575414299964905,\n",
       " 0.24518166482448578,\n",
       " 0.2465176284313202,\n",
       " 0.2537977695465088,\n",
       " 0.24788203835487366,\n",
       " 0.27640751004219055,\n",
       " 0.30710098147392273,\n",
       " 0.26752495765686035,\n",
       " 0.25178632140159607,\n",
       " 0.26806601881980896,\n",
       " 0.28982752561569214,\n",
       " 0.289781779050827,\n",
       " 0.29925525188446045,\n",
       " 0.3041157126426697,\n",
       " 0.2972397208213806,\n",
       " 0.3090672194957733,\n",
       " 0.32338032126426697,\n",
       " 0.3173235058784485,\n",
       " 0.2609356939792633,\n",
       " 0.2597658932209015,\n",
       " 0.2806379497051239,\n",
       " 0.293112576007843,\n",
       " 0.26074132323265076,\n",
       " 0.27450108528137207,\n",
       " 0.28582870960235596,\n",
       " 0.27299752831459045,\n",
       " 0.26809024810791016,\n",
       " 0.27530550956726074,\n",
       " 0.293203741312027,\n",
       " 0.2792137861251831,\n",
       " 0.3239550292491913,\n",
       " 0.31497013568878174,\n",
       " 0.31719502806663513,\n",
       " 0.31492963433265686,\n",
       " 0.31434205174446106,\n",
       " 0.2875710725784302,\n",
       " 0.30397728085517883,\n",
       " 0.293928861618042,\n",
       " 0.2871263027191162,\n",
       " 0.2870120704174042,\n",
       " 0.2970384657382965,\n",
       " 0.3201447129249573,\n",
       " 0.2858997881412506,\n",
       " 0.2860981225967407,\n",
       " 0.2934183180332184,\n",
       " 0.2699257731437683,\n",
       " 0.27672120928764343,\n",
       " 0.2861778736114502,\n",
       " 0.28638893365859985,\n",
       " 0.3020210266113281,\n",
       " 0.2809390425682068,\n",
       " 0.30677658319473267,\n",
       " 0.29579514265060425,\n",
       " 0.3036474287509918,\n",
       " 0.2937075197696686,\n",
       " 0.2985920011997223,\n",
       " 0.26600292325019836,\n",
       " 0.2587461471557617,\n",
       " 0.2888224124908447,\n",
       " 0.27654001116752625,\n",
       " 0.2708163559436798,\n",
       " 0.2579934895038605,\n",
       " 0.25946661829948425,\n",
       " 0.2469203621149063,\n",
       " 0.2455993890762329,\n",
       " 0.250016987323761,\n",
       " 0.2556476891040802,\n",
       " 0.25943323969841003,\n",
       " 0.2655399739742279,\n",
       " 0.2696904242038727,\n",
       " 0.26710087060928345,\n",
       " 0.26936057209968567,\n",
       " 0.26834994554519653,\n",
       " 0.2697697579860687,\n",
       " 0.26504960656166077,\n",
       " 0.28434672951698303,\n",
       " 0.24574331939220428,\n",
       " 0.2671058177947998,\n",
       " 0.2753269374370575,\n",
       " 0.2797544002532959,\n",
       " 0.2695963680744171,\n",
       " 0.25658977031707764,\n",
       " 0.2784615457057953,\n",
       " 0.2783668339252472,\n",
       " 0.31395846605300903,\n",
       " 0.27669692039489746,\n",
       " 0.2715895473957062,\n",
       " 0.2716241776943207,\n",
       " 0.2797048091888428,\n",
       " 0.2956452965736389,\n",
       " 0.28439050912857056,\n",
       " 0.2994314432144165,\n",
       " 0.2794973850250244,\n",
       " 0.28087493777275085,\n",
       " 0.2801643908023834,\n",
       " 0.2680675983428955,\n",
       " 0.25861671566963196,\n",
       " 0.2515450119972229,\n",
       " 0.2715300917625427,\n",
       " 0.2662719786167145,\n",
       " 0.2550981342792511,\n",
       " 0.2657460868358612,\n",
       " 0.26768261194229126,\n",
       " 0.2589402198791504,\n",
       " 0.25292134284973145,\n",
       " 0.24322278797626495,\n",
       " 0.2600211203098297,\n",
       " 0.25170961022377014,\n",
       " 0.28321942687034607,\n",
       " 0.2859368324279785,\n",
       " 0.25101399421691895,\n",
       " 0.319980263710022,\n",
       " 0.25727564096450806,\n",
       " 0.2643819749355316,\n",
       " 0.2593173086643219,\n",
       " 0.2597470283508301,\n",
       " 0.24880622327327728,\n",
       " 0.24858321249485016,\n",
       " 0.2920915186405182,\n",
       " 0.24892890453338623,\n",
       " 0.2742002308368683,\n",
       " 0.27297723293304443,\n",
       " 0.24486498534679413,\n",
       " 0.2726598381996155,\n",
       " 0.25878840684890747,\n",
       " 0.2715575397014618,\n",
       " 0.26034125685691833,\n",
       " 0.2937753200531006,\n",
       " 0.23847883939743042,\n",
       " 0.2538449764251709,\n",
       " 0.2590450048446655,\n",
       " 0.2665332853794098,\n",
       " 0.26170435547828674,\n",
       " 0.2762071490287781,\n",
       " 0.26299726963043213,\n",
       " 0.24601206183433533,\n",
       " 0.27517861127853394,\n",
       " 0.31163737177848816,\n",
       " 0.2778969407081604,\n",
       " 0.27161288261413574,\n",
       " 0.27093902230262756,\n",
       " 0.29057154059410095,\n",
       " 0.27327215671539307,\n",
       " 0.2815109193325043,\n",
       " 0.3087958097457886,\n",
       " 0.26387226581573486,\n",
       " 0.2765445113182068,\n",
       " 0.3034749925136566,\n",
       " 0.2671678066253662,\n",
       " 0.2994723916053772,\n",
       " 0.2629111409187317,\n",
       " 0.2643722593784332,\n",
       " 0.2569836974143982,\n",
       " 0.24765810370445251,\n",
       " 0.2512141764163971,\n",
       " 0.25420960783958435,\n",
       " 0.2544955313205719,\n",
       " 0.2650236189365387,\n",
       " 0.2946434020996094,\n",
       " 0.27242714166641235,\n",
       " 0.2662269175052643,\n",
       " 0.2662149667739868,\n",
       " 0.2875318229198456,\n",
       " 0.24244099855422974,\n",
       " 0.29636150598526,\n",
       " 0.2560877501964569,\n",
       " 0.2469528615474701,\n",
       " 0.2609621286392212,\n",
       " 0.2705470621585846,\n",
       " 0.2473343014717102,\n",
       " 0.23200617730617523,\n",
       " 0.27242955565452576,\n",
       " 0.26032736897468567,\n",
       " 0.2695031464099884,\n",
       " 0.2413318008184433,\n",
       " 0.24697087705135345,\n",
       " 0.2532358765602112,\n",
       " 0.23887160420417786,\n",
       " 0.24710725247859955,\n",
       " 0.2541908621788025,\n",
       " 0.24201232194900513,\n",
       " 0.28327035903930664,\n",
       " 0.24143655598163605,\n",
       " 0.24247658252716064,\n",
       " 0.24436312913894653,\n",
       " 0.24994313716888428,\n",
       " 0.2311965823173523,\n",
       " 0.24669496715068817,\n",
       " 0.31158438324928284,\n",
       " 0.26253393292427063,\n",
       " 0.24331893026828766,\n",
       " 0.2607309818267822,\n",
       " 0.24156248569488525,\n",
       " 0.26537930965423584,\n",
       " 0.24853193759918213,\n",
       " 0.24728059768676758,\n",
       " 0.2639460563659668,\n",
       " 0.24320025742053986,\n",
       " 0.29212626814842224,\n",
       " 0.2670576572418213]"
      ]
     },
     "execution_count": 23,
     "metadata": {},
     "output_type": "execute_result"
    }
   ],
   "source": [
    "test_loss_"
   ]
  },
  {
   "cell_type": "code",
   "execution_count": 26,
   "metadata": {},
   "outputs": [
    {
     "data": {
      "image/png": "[encoded data removed]",
      "text/plain": [
       "<Figure size 432x288 with 1 Axes>"
      ]
     },
     "metadata": {
      "needs_background": "light"
     },
     "output_type": "display_data"
    }
   ],
   "source": [
    "import matplotlib.pyplot as plt\n",
    "%matplotlib inline\n",
    "plt.plot(np.arange(1, len(test_loss_)+1), test_loss_)\n",
    "plt.show()"
   ]
  },
  {
   "cell_type": "code",
   "execution_count": 27,
   "metadata": {},
   "outputs": [
    {
     "data": {
      "image/png": "[encoded data removed]",
      "text/plain": [
       "<Figure size 432x288 with 1 Axes>"
      ]
     },
     "metadata": {
      "needs_background": "light"
     },
     "output_type": "display_data"
    }
   ],
   "source": [
    "import matplotlib.pyplot as plt\n",
    "%matplotlib inline\n",
    "plt.plot(np.arange(1, len(train_loss_)+1), train_loss_)\n",
    "plt.show()"
   ]
  },
  {
   "cell_type": "markdown",
   "metadata": {},
   "source": [
    "---"
   ]
  },
  {
   "cell_type": "markdown",
   "metadata": {},
   "source": [
    "### 儲存跟載入 weight"
   ]
  },
  {
   "cell_type": "markdown",
   "metadata": {},
   "source": [
    "### 儲存"
   ]
  },
  {
   "cell_type": "code",
   "execution_count": 19,
   "metadata": {},
   "outputs": [],
   "source": [
    "##假設我們已經訓練好了模型\n",
    "## 可以存成 .pth or .pt\n",
    "saving_location = './model_save.pth' # './' 代表目前所屬路徑\n",
    "torch.save(model.state_dict(), f=saving_location)"
   ]
  },
  {
   "cell_type": "markdown",
   "metadata": {},
   "source": [
    "### 載入 "
   ]
  },
  {
   "cell_type": "code",
   "execution_count": 29,
   "metadata": {},
   "outputs": [
    {
     "data": {
      "text/plain": [
       "{'epoch': 399,\n",
       " 'model_state_dict': OrderedDict([('layer1.linear.0.weight',\n",
       "               tensor([[-0.0216,  0.1463, -0.1414,  0.3203],\n",
       "                       [ 0.2582, -0.1290,  0.2693,  0.1843],\n",
       "                       [-0.4356, -0.0832,  0.2997,  0.5360],\n",
       "                       [-0.1099, -0.0674,  0.2586,  0.4623],\n",
       "                       [-0.3413, -0.3657,  0.3852,  0.2631],\n",
       "                       [ 0.3129, -0.8004, -0.2307,  0.2443],\n",
       "                       [ 0.3944, -0.3748, -0.5579, -0.2772],\n",
       "                       [-0.3843, -0.2073,  0.3478, -0.2499],\n",
       "                       [ 0.5854, -0.1178, -0.3538, -0.1243],\n",
       "                       [-0.2909,  0.0676,  0.0553, -0.4825],\n",
       "                       [-0.0650, -0.4588, -0.3941, -0.5111],\n",
       "                       [ 0.0717, -0.4427, -0.4026, -0.1095],\n",
       "                       [-0.0303,  0.1478, -0.0934, -0.3983],\n",
       "                       [ 0.3004, -0.2886, -0.5604, -0.4444],\n",
       "                       [-0.0793,  0.3794, -0.1268,  0.2365],\n",
       "                       [ 0.0021,  0.1355,  0.1204,  0.7150]])),\n",
       "              ('layer1.linear.0.bias',\n",
       "               tensor([-0.1729, -0.4250,  0.2750,  0.1257, -0.4781,  0.1207, -0.2205,  0.1673,\n",
       "                        0.2162,  0.6591, -0.0612, -0.0830,  0.5050, -0.2143, -0.2583, -0.0268])),\n",
       "              ('layer1.linear.1.weight',\n",
       "               tensor([1.1210, 0.8829, 0.9747, 1.0423, 0.9451, 0.8742, 0.8883, 0.9732, 0.9217,\n",
       "                       0.9992, 0.8283, 0.8616, 1.0144, 1.0778, 1.0778, 0.8390])),\n",
       "              ('layer1.linear.1.bias',\n",
       "               tensor([-0.0430, -0.3389, -0.4139, -0.3647, -0.3819,  0.1572, -0.2645, -0.0254,\n",
       "                       -0.0824, -0.2766, -0.4470, -0.2879, -0.3335, -0.3818,  0.1302, -0.3906])),\n",
       "              ('layer1.linear.1.running_mean',\n",
       "               tensor([ 0.0184,  1.9107, -0.8123,  0.7906, -1.8850, -1.1320, -1.4803, -1.7628,\n",
       "                        1.8608, -1.1852, -3.9448, -2.6515, -0.0153, -1.9536,  0.2697,  1.7113])),\n",
       "              ('layer1.linear.1.running_var',\n",
       "               tensor([0.0123, 0.7419, 0.4498, 0.5743, 0.5607, 0.0759, 0.7389, 0.0842, 0.1178,\n",
       "                       0.2788, 1.1865, 0.4777, 0.2771, 1.1570, 0.0559, 0.5688])),\n",
       "              ('layer1.linear.1.num_batches_tracked', tensor(11201)),\n",
       "              ('layer2.linear.0.weight',\n",
       "               tensor([[ 4.3989e-02, -2.3586e-01, -5.9980e-01, -4.0046e-01, -3.2744e-01,\n",
       "                         7.4692e-03,  7.0329e-02, -5.6839e-02, -2.6659e-02,  2.6798e-03,\n",
       "                         1.0499e-01,  8.7523e-02,  9.5140e-02,  7.3388e-02, -6.1295e-02,\n",
       "                        -2.4972e-01],\n",
       "                       [ 3.6624e-01,  2.0437e-01,  2.4666e-01,  1.9340e-01, -1.3021e-01,\n",
       "                        -1.3035e-01,  1.5130e-01, -2.8756e-01,  2.3374e-01, -1.7608e-01,\n",
       "                         1.0848e-01,  9.6216e-03, -1.2693e-01, -1.2813e-01,  3.4623e-01,\n",
       "                        -1.9035e-02],\n",
       "                       [-7.3322e-02,  3.3934e-01,  1.4889e-01,  1.6508e-01,  5.9938e-01,\n",
       "                         1.0035e-01,  6.7683e-02,  1.4955e-01,  3.2504e-04, -1.4489e-01,\n",
       "                         9.9472e-02,  6.1802e-02, -1.2990e-01,  1.1705e-02, -3.4678e-02,\n",
       "                         3.2865e-01],\n",
       "                       [-2.4657e-01, -7.8979e-02, -3.2247e-02,  6.3884e-04,  5.4607e-02,\n",
       "                        -4.9355e-02,  8.8104e-02, -2.5865e-02,  1.9418e-01,  1.6017e-01,\n",
       "                         3.5161e-01,  1.5056e-01,  1.9313e-01,  2.1450e-01, -1.6236e-01,\n",
       "                        -3.6398e-02],\n",
       "                       [-3.9926e-03,  1.2751e-01,  1.6966e-01,  3.5807e-02, -1.3338e-02,\n",
       "                         1.2294e-02, -2.9514e-01,  6.8895e-02, -1.3570e-01, -2.3518e-01,\n",
       "                        -2.9932e-01, -2.8940e-01, -3.1670e-01, -5.4792e-01, -4.8078e-02,\n",
       "                         2.6075e-01],\n",
       "                       [-6.3238e-02,  2.2753e-01,  1.6543e-01,  9.0370e-02,  1.2447e-01,\n",
       "                         8.7356e-03, -4.8350e-02, -7.1922e-02,  7.7464e-02, -2.5641e-01,\n",
       "                        -3.9757e-01, -3.0473e-01, -2.7208e-01, -9.2875e-02, -1.0659e-02,\n",
       "                         1.6952e-01],\n",
       "                       [-2.2804e-01,  8.3205e-02, -2.3941e-01, -5.0180e-03,  2.6557e-02,\n",
       "                         1.6154e-01,  2.3351e-01, -3.0896e-01,  2.4940e-01, -1.6558e-01,\n",
       "                        -7.6849e-02,  3.3373e-01,  9.5435e-02,  2.5037e-01, -8.7977e-02,\n",
       "                         7.2398e-03],\n",
       "                       [ 1.1445e-01,  3.8667e-01,  2.3846e-01,  1.1441e-01,  1.8913e-01,\n",
       "                         1.5232e-01,  1.0173e-01,  6.5249e-02,  1.4959e-01,  3.1713e-02,\n",
       "                        -5.1883e-04, -2.2574e-01, -1.9045e-01, -3.4454e-02, -1.6020e-01,\n",
       "                         1.9355e-01],\n",
       "                       [-3.2966e-01, -2.0850e-01, -2.1083e-01, -4.7079e-01, -9.5419e-02,\n",
       "                         1.4688e-01,  1.3422e-01, -4.8054e-03,  2.3622e-02,  6.2131e-02,\n",
       "                         2.0746e-01,  5.7800e-02,  2.1713e-01,  8.5255e-02, -5.4426e-02,\n",
       "                        -3.8413e-01],\n",
       "                       [-2.3940e-01, -9.5761e-02, -4.4250e-01, -4.0071e-01, -3.7054e-01,\n",
       "                        -2.5131e-02,  2.1669e-01,  6.0623e-03,  1.8100e-01, -8.1620e-02,\n",
       "                         1.5352e-01, -1.2609e-02, -1.4260e-01,  1.4732e-01,  3.8071e-02,\n",
       "                        -1.4695e-02],\n",
       "                       [ 3.3544e-01,  4.4733e-02, -1.4742e-01,  3.2883e-01, -3.1361e-02,\n",
       "                        -1.6664e-01, -5.5467e-02, -4.8206e-01,  2.1142e-01,  5.5442e-02,\n",
       "                        -4.4947e-02,  1.4929e-01, -6.8933e-03, -3.2057e-02, -1.6667e-02,\n",
       "                         1.9200e-01],\n",
       "                       [ 1.8258e-01,  3.7910e-02, -2.9022e-01, -2.1000e-01, -1.4717e-01,\n",
       "                        -2.2138e-01,  2.6369e-01, -1.0427e-02,  2.6362e-01,  9.6546e-02,\n",
       "                        -5.2303e-02,  2.5426e-01,  2.4052e-01,  2.8216e-01,  2.1701e-02,\n",
       "                        -2.4861e-01],\n",
       "                       [-1.3418e-01,  2.9699e-01,  2.4337e-01,  2.7961e-01, -6.7548e-02,\n",
       "                         1.8219e-01,  1.9579e-01,  1.4080e-01, -2.6303e-01,  1.1337e-01,\n",
       "                         7.4096e-02,  1.9669e-01,  1.4999e-01,  1.6829e-01, -2.4000e-01,\n",
       "                         1.2019e-01],\n",
       "                       [ 7.8234e-03,  7.3307e-02,  1.5393e-02,  1.4056e-01, -9.8748e-03,\n",
       "                         7.4946e-02, -3.7290e-01,  6.6682e-02, -1.1426e-01, -4.1193e-01,\n",
       "                        -1.3626e-01, -1.2353e-01, -4.8792e-01, -2.8247e-01,  8.4372e-02,\n",
       "                         7.6164e-02],\n",
       "                       [-3.0052e-01, -1.5796e-01, -1.4183e-01, -3.0086e-01, -2.5324e-01,\n",
       "                         1.9544e-02, -1.0298e-01, -8.0813e-02,  7.8440e-02, -1.7576e-01,\n",
       "                        -3.5191e-03, -1.9704e-01,  1.5407e-02,  1.2494e-01, -1.2428e-01,\n",
       "                        -1.1320e-01],\n",
       "                       [ 2.1694e-01,  9.0105e-02,  1.1427e-01,  1.1748e-01,  1.8795e-01,\n",
       "                        -3.7890e-01, -3.8390e-02, -1.9503e-01,  1.4098e-01,  8.2387e-02,\n",
       "                        -7.4585e-03, -1.0150e-01,  6.1614e-02, -6.2584e-02,  2.1855e-01,\n",
       "                        -6.7948e-02],\n",
       "                       [ 1.7969e-02, -1.0127e-01,  2.0456e-01, -5.4811e-02,  3.8985e-01,\n",
       "                        -1.9875e-01, -1.7325e-01, -1.3817e-01,  4.2536e-02,  2.6829e-01,\n",
       "                        -1.5945e-01,  3.0201e-02,  8.3970e-02, -9.2689e-02,  2.7863e-01,\n",
       "                        -4.7092e-02],\n",
       "                       [-6.5513e-02,  2.4656e-02,  2.2633e-01,  3.1677e-02,  6.6464e-02,\n",
       "                         1.7512e-02, -3.7364e-01,  3.6637e-02, -1.2109e-01, -2.7748e-01,\n",
       "                        -3.1261e-01, -7.4901e-02, -3.1970e-01, -4.0779e-01,  1.0053e-01,\n",
       "                         1.0607e-01],\n",
       "                       [-3.7613e-01,  1.5208e-01, -1.0011e-01,  1.8647e-02,  2.1002e-01,\n",
       "                         2.5745e-01, -8.4536e-02,  3.2485e-01, -8.5186e-02, -3.8901e-02,\n",
       "                         6.6716e-02, -2.4497e-02,  3.4372e-01, -7.0660e-02, -3.0003e-01,\n",
       "                        -3.7268e-03],\n",
       "                       [-2.2660e-01,  2.2219e-02,  1.1129e-01,  7.5078e-02,  1.0548e-01,\n",
       "                         4.2712e-02, -4.9510e-02,  4.5807e-03,  2.5972e-01, -3.1239e-01,\n",
       "                        -2.7469e-01, -2.1878e-01, -2.2987e-01, -2.8625e-01, -5.4891e-02,\n",
       "                         2.6726e-02],\n",
       "                       [ 2.9408e-02,  8.6478e-03,  1.9903e-01,  7.9235e-02,  2.7572e-01,\n",
       "                         1.1784e-01,  3.0879e-02,  1.1146e-01, -6.3100e-02, -2.3981e-01,\n",
       "                         1.2975e-01, -3.8091e-02,  8.9174e-02,  3.3382e-01, -3.3797e-01,\n",
       "                         1.2497e-01],\n",
       "                       [-1.5364e-01,  1.0364e-01,  1.2127e-01,  1.0370e-01,  1.6370e-01,\n",
       "                        -8.0096e-02, -1.1675e-01,  8.8121e-02, -3.4726e-01,  1.8759e-01,\n",
       "                        -6.5965e-02, -8.5107e-02,  2.4982e-01, -8.0711e-02, -4.4671e-02,\n",
       "                         1.4449e-01],\n",
       "                       [ 3.4045e-02, -1.4592e-01, -3.6346e-01, -3.8335e-01, -2.6516e-01,\n",
       "                         9.1300e-02,  6.0017e-02, -2.8460e-02,  1.5895e-01,  1.6130e-02,\n",
       "                         1.7869e-01, -3.7551e-02,  1.1885e-01,  8.9651e-02,  1.2316e-01,\n",
       "                        -2.1356e-01],\n",
       "                       [-1.2016e-01, -2.1644e-01, -2.5679e-01, -4.2116e-01, -3.7256e-01,\n",
       "                        -2.5336e-02,  1.2894e-01, -1.4053e-01, -6.8741e-02,  2.9753e-02,\n",
       "                        -8.2935e-02,  2.2622e-01,  1.9110e-01,  1.8896e-01, -9.3323e-02,\n",
       "                        -4.6609e-01],\n",
       "                       [-5.8046e-02, -3.1611e-01, -1.9801e-01, -3.4448e-01, -1.3094e-01,\n",
       "                         7.0541e-02,  5.9817e-02,  1.1507e-01,  9.6471e-03,  2.1860e-01,\n",
       "                         2.5950e-01,  2.4399e-01,  6.1376e-02,  5.3354e-02, -1.0479e-01,\n",
       "                        -5.0871e-01],\n",
       "                       [-3.5666e-02,  5.5743e-02, -1.1619e-01,  2.6326e-01, -7.2762e-01,\n",
       "                        -1.0384e-01,  9.6224e-02,  3.4481e-03,  2.1897e-01,  1.3056e-01,\n",
       "                         1.4530e-01,  1.3922e-01, -5.6600e-02,  1.2870e-01, -1.2140e-01,\n",
       "                        -9.4256e-03],\n",
       "                       [ 1.7052e-01, -1.5556e-01,  1.2514e-01,  2.4930e-01, -2.1899e-02,\n",
       "                        -1.3894e-01, -1.9066e-02, -3.5339e-01, -1.8268e-01,  1.9012e-01,\n",
       "                         1.6728e-01,  4.8642e-02, -2.0697e-01, -9.5619e-02,  2.3556e-01,\n",
       "                         1.1134e-03],\n",
       "                       [-2.5998e-01,  1.4208e-02,  9.3299e-02,  2.5913e-04,  1.9147e-01,\n",
       "                         2.4603e-01,  8.2086e-02,  3.8086e-01,  1.9713e-03,  5.8912e-03,\n",
       "                         1.3129e-02,  2.8351e-02, -1.1330e-02,  1.3096e-01, -3.4628e-01,\n",
       "                         1.6987e-01],\n",
       "                       [-2.2840e-01,  2.0726e-01, -2.1044e-01,  2.5942e-02, -1.8036e-01,\n",
       "                         3.2791e-02, -4.8871e-03, -6.5440e-02,  1.9789e-01,  1.9354e-01,\n",
       "                         1.2907e-01,  2.8915e-01,  2.4830e-01,  4.1293e-02, -1.0705e-01,\n",
       "                         4.6671e-02],\n",
       "                       [ 5.1329e-02, -3.9540e-01, -1.5086e-01, -2.5134e-01, -3.1391e-02,\n",
       "                         4.4817e-02, -1.1143e-01,  1.6938e-01, -1.7253e-02,  1.0769e-01,\n",
       "                         2.8874e-01,  1.8168e-01,  5.7581e-02,  1.3090e-02, -1.7936e-01,\n",
       "                        -3.0854e-01],\n",
       "                       [ 3.7445e-01, -1.1870e-01,  3.0876e-02, -1.0966e-03,  1.5509e-01,\n",
       "                        -1.9033e-01,  2.8199e-01, -6.0679e-02,  6.5611e-04, -1.6213e-01,\n",
       "                        -1.8976e-01, -3.8529e-02, -1.6496e-01,  1.1233e-01,  3.8053e-01,\n",
       "                         2.4587e-01],\n",
       "                       [ 2.6812e-01, -1.4882e-01,  3.4498e-01, -1.7003e-01,  1.8697e-01,\n",
       "                        -3.1620e-01, -1.2336e-01, -3.5469e-02, -1.7282e-01,  1.0772e-01,\n",
       "                         3.2707e-01, -5.7081e-02,  2.3354e-03,  1.8072e-01, -2.2227e-01,\n",
       "                        -4.4713e-02]])),\n",
       "              ('layer2.linear.0.bias',\n",
       "               tensor([-0.0614,  0.1723,  0.0469, -0.0040,  0.0593,  0.2617, -0.2083, -0.1885,\n",
       "                       -0.0131, -0.2149,  0.0951,  0.0525, -0.1281,  0.1199, -0.0323,  0.0121,\n",
       "                        0.2703, -0.1099,  0.1995, -0.1852,  0.0927,  0.2430, -0.0701, -0.1556,\n",
       "                        0.2313, -0.2103, -0.0729, -0.0688,  0.0526,  0.1047, -0.0510, -0.1195])),\n",
       "              ('layer2.linear.1.weight',\n",
       "               tensor([1.0947, 1.0192, 1.0589, 0.9525, 1.4409, 1.1122, 0.9551, 0.9666, 1.1567,\n",
       "                       0.9719, 1.1436, 1.2356, 1.1268, 1.1752, 1.0363, 1.1333, 0.9422, 1.5820,\n",
       "                       1.0622, 1.2101, 1.1099, 1.3264, 1.0738, 1.0948, 1.2293, 0.9495, 1.0592,\n",
       "                       1.1039, 0.9795, 0.9582, 1.0054, 0.9617])),\n",
       "              ('layer2.linear.1.bias',\n",
       "               tensor([ 0.3668,  0.2309,  0.1587,  0.2511,  0.4771,  0.3339,  0.1056,  0.1247,\n",
       "                        0.3633,  0.2931,  0.2126,  0.1776, -0.0068,  0.2745, -0.2034,  0.2691,\n",
       "                        0.1641,  0.5412,  0.1656,  0.3720,  0.2883,  0.3177,  0.3311,  0.2206,\n",
       "                        0.3542,  0.2478,  0.1753,  0.1390,  0.1152,  0.3085,  0.1106,  0.1521])),\n",
       "              ('layer2.linear.1.running_mean',\n",
       "               tensor([-0.3952,  0.4571,  0.4037,  0.1022, -0.3858,  0.0692, -0.1964,  0.1200,\n",
       "                       -0.2396, -0.4874,  0.1411,  0.2655,  0.1591, -0.2374, -0.5245,  0.1027,\n",
       "                        0.3705, -0.4862,  0.1887, -0.4713,  0.2481,  0.1767, -0.1098, -0.5333,\n",
       "                        0.1586, -0.1906, -0.1156,  0.0969,  0.1435,  0.0212,  0.2182, -0.1681])),\n",
       "              ('layer2.linear.1.running_var',\n",
       "               tensor([0.7496, 0.6042, 0.5847, 0.3478, 1.4905, 0.6153, 0.3475, 0.4101, 0.7115,\n",
       "                       0.5814, 0.5879, 1.0239, 0.3895, 0.9678, 0.3168, 0.4457, 0.1792, 0.9892,\n",
       "                       0.6400, 0.5871, 0.2662, 0.2396, 0.6284, 0.8416, 0.6682, 0.2700, 0.2579,\n",
       "                       0.6025, 0.2537, 0.2900, 0.4165, 0.1515])),\n",
       "              ('layer2.linear.1.num_batches_tracked', tensor(11201)),\n",
       "              ('output.linear.weight',\n",
       "               tensor([[ 0.0173,  0.1691, -0.0414,  0.0802, -0.5408, -0.5221,  0.1812, -0.1091,\n",
       "                         0.2326, -0.0019,  0.2388,  0.0781, -0.3410, -0.4450,  0.0867,  0.1552,\n",
       "                         0.1208, -0.5314, -0.3594, -0.5010, -0.3674, -0.5148,  0.1044,  0.0144,\n",
       "                         0.2202, -0.0219,  0.1824, -0.3769,  0.2035,  0.1194,  0.1427,  0.0726],\n",
       "                       [ 0.0277, -0.2520, -0.1620, -0.1556,  0.0762,  0.0638, -0.0262, -0.0571,\n",
       "                         0.1233, -0.0562, -0.1559,  0.2256,  0.0972,  0.1192,  0.1203, -0.1607,\n",
       "                        -0.1604,  0.1404,  0.0308,  0.0870, -0.0640, -0.0919,  0.1141, -0.0358,\n",
       "                         0.0610, -0.1371, -0.1082,  0.0739, -0.0683, -0.0093, -0.1323, -0.1816],\n",
       "                       [-0.4120,  0.0598,  0.1173, -0.1087,  0.0342,  0.0725, -0.0478,  0.1318,\n",
       "                        -0.2097, -0.3659,  0.1215, -0.2323,  0.1734,  0.0286, -0.1978,  0.0674,\n",
       "                         0.0517,  0.1277, -0.0064,  0.0996,  0.0659,  0.0101, -0.2305, -0.3290,\n",
       "                        -0.2341, -0.2375,  0.0670,  0.0322, -0.0841, -0.2329,  0.0962, -0.0217]])),\n",
       "              ('output.linear.bias', tensor([-0.1052, -0.0538,  0.1012]))]),\n",
       " 'loss': 0.2670576572418213}"
      ]
     },
     "execution_count": 29,
     "metadata": {},
     "output_type": "execute_result"
    }
   ],
   "source": [
    "checkpoint"
   ]
  },
  {
   "cell_type": "code",
   "execution_count": 28,
   "metadata": {},
   "outputs": [
    {
     "name": "stdout",
     "output_type": "stream",
     "text": [
      "loading successfully...\n",
      "1.0\n"
     ]
    }
   ],
   "source": [
    "model = Model(input_dimention=4,output_classes=3).to(device)\n",
    "\n",
    "##載入\n",
    "checkpoint = torch.load(saving_location, map_location=lambda storage, loc: storage)\n",
    "model.load_state_dict(checkpoint)\n",
    "print('loading successfully...')\n",
    "\n",
    "model.eval()\n",
    "output = model(x_test)\n",
    "prediction = softmax(output)\n",
    "prediction = torch.argmax(prediction,1).detach().cpu().numpy()\n",
    "test_accuracy = metrics.accuracy_score(prediction, y_test_numpy)\n",
    "print(test_accuracy)"
   ]
  },
  {
   "cell_type": "markdown",
   "metadata": {},
   "source": [
    "### 進階儲存\n",
    "* 以字典的型式存入各種資料"
   ]
  },
  {
   "cell_type": "code",
   "execution_count": 21,
   "metadata": {},
   "outputs": [],
   "source": [
    "torch.save({\n",
    "            'epoch': epoch,\n",
    "            'model_state_dict': model.state_dict(),\n",
    "            'loss': loss_test,\n",
    "            }, saving_location)"
   ]
  },
  {
   "cell_type": "markdown",
   "metadata": {},
   "source": [
    "### 載入 "
   ]
  },
  {
   "cell_type": "code",
   "execution_count": 22,
   "metadata": {},
   "outputs": [
    {
     "name": "stdout",
     "output_type": "stream",
     "text": [
      "loading successfully...\n",
      "current loss : 0.2670576572418213\n",
      "1.0\n"
     ]
    }
   ],
   "source": [
    "##載入訓練好的 weight\n",
    "\n",
    "model = Model(input_dimention=4,output_classes=3).to(device)\n",
    "\n",
    "##載入\n",
    "checkpoint = torch.load(saving_location, map_location=lambda storage, loc: storage)\n",
    "model.load_state_dict(checkpoint['model_state_dict'])\n",
    "print('loading successfully...')\n",
    "print('current loss : {}'.format(checkpoint['loss']))\n",
    "\n",
    "model.eval()\n",
    "output = model(x_test)\n",
    "prediction = softmax(output)\n",
    "prediction = torch.argmax(prediction,1).detach().cpu().numpy()\n",
    "test_accuracy = metrics.accuracy_score(prediction, y_test_numpy)\n",
    "print(test_accuracy)\n",
    "\n"
   ]
  }
 ],
 "metadata": {
  "kernelspec": {
   "display_name": "Python 3",
   "language": "python",
   "name": "python3"
  },
  "language_info": {
   "codemirror_mode": {
    "name": "ipython",
    "version": 3
   },
   "file_extension": ".py",
   "mimetype": "text/x-python",
   "name": "python",
   "nbconvert_exporter": "python",
   "pygments_lexer": "ipython3",
   "version": "3.7.4"
  }
 },
 "nbformat": 4,
 "nbformat_minor": 2
}
